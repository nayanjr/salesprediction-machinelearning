{
 "cells": [
  {
   "cell_type": "code",
   "execution_count": 17,
   "metadata": {},
   "outputs": [],
   "source": [
    "import numpy as np\n",
    "import pandas as pd\n",
    "import matplotlib.pyplot as plt\n",
    "import seaborn as sns"
   ]
  },
  {
   "cell_type": "code",
   "execution_count": 18,
   "metadata": {},
   "outputs": [
    {
     "data": {
      "text/html": [
       "<div>\n",
       "<style scoped>\n",
       "    .dataframe tbody tr th:only-of-type {\n",
       "        vertical-align: middle;\n",
       "    }\n",
       "\n",
       "    .dataframe tbody tr th {\n",
       "        vertical-align: top;\n",
       "    }\n",
       "\n",
       "    .dataframe thead th {\n",
       "        text-align: right;\n",
       "    }\n",
       "</style>\n",
       "<table border=\"1\" class=\"dataframe\">\n",
       "  <thead>\n",
       "    <tr style=\"text-align: right;\">\n",
       "      <th></th>\n",
       "      <th>User_ID</th>\n",
       "      <th>Product_ID</th>\n",
       "      <th>Gender</th>\n",
       "      <th>Age</th>\n",
       "      <th>Occupation</th>\n",
       "      <th>City_Category</th>\n",
       "      <th>Crime_rate</th>\n",
       "      <th>Stay_In_Current_City_Years</th>\n",
       "      <th>Marital_Status</th>\n",
       "      <th>Product_Category_1</th>\n",
       "      <th>Product_Category_2</th>\n",
       "      <th>Product_Category_3</th>\n",
       "      <th>Purchase</th>\n",
       "      <th>Purchase2</th>\n",
       "    </tr>\n",
       "  </thead>\n",
       "  <tbody>\n",
       "    <tr>\n",
       "      <th>0</th>\n",
       "      <td>1000001</td>\n",
       "      <td>P00069042</td>\n",
       "      <td>F</td>\n",
       "      <td>0-17</td>\n",
       "      <td>10</td>\n",
       "      <td>A</td>\n",
       "      <td>8</td>\n",
       "      <td>2</td>\n",
       "      <td>0</td>\n",
       "      <td>3</td>\n",
       "      <td>NaN</td>\n",
       "      <td>NaN</td>\n",
       "      <td>8370</td>\n",
       "      <td>0</td>\n",
       "    </tr>\n",
       "    <tr>\n",
       "      <th>1</th>\n",
       "      <td>1000001</td>\n",
       "      <td>P00248942</td>\n",
       "      <td>F</td>\n",
       "      <td>0-17</td>\n",
       "      <td>10</td>\n",
       "      <td>A</td>\n",
       "      <td>6</td>\n",
       "      <td>2</td>\n",
       "      <td>0</td>\n",
       "      <td>1</td>\n",
       "      <td>6.0</td>\n",
       "      <td>14.0</td>\n",
       "      <td>15200</td>\n",
       "      <td>1</td>\n",
       "    </tr>\n",
       "    <tr>\n",
       "      <th>2</th>\n",
       "      <td>1000001</td>\n",
       "      <td>P00087842</td>\n",
       "      <td>F</td>\n",
       "      <td>0-17</td>\n",
       "      <td>10</td>\n",
       "      <td>A</td>\n",
       "      <td>17</td>\n",
       "      <td>2</td>\n",
       "      <td>0</td>\n",
       "      <td>12</td>\n",
       "      <td>NaN</td>\n",
       "      <td>NaN</td>\n",
       "      <td>1422</td>\n",
       "      <td>0</td>\n",
       "    </tr>\n",
       "    <tr>\n",
       "      <th>3</th>\n",
       "      <td>1000001</td>\n",
       "      <td>P00085442</td>\n",
       "      <td>F</td>\n",
       "      <td>0-17</td>\n",
       "      <td>10</td>\n",
       "      <td>A</td>\n",
       "      <td>17</td>\n",
       "      <td>2</td>\n",
       "      <td>0</td>\n",
       "      <td>12</td>\n",
       "      <td>14.0</td>\n",
       "      <td>NaN</td>\n",
       "      <td>1057</td>\n",
       "      <td>0</td>\n",
       "    </tr>\n",
       "    <tr>\n",
       "      <th>4</th>\n",
       "      <td>1000002</td>\n",
       "      <td>P00285442</td>\n",
       "      <td>M</td>\n",
       "      <td>55+</td>\n",
       "      <td>16</td>\n",
       "      <td>C</td>\n",
       "      <td>13</td>\n",
       "      <td>4</td>\n",
       "      <td>0</td>\n",
       "      <td>8</td>\n",
       "      <td>NaN</td>\n",
       "      <td>NaN</td>\n",
       "      <td>7969</td>\n",
       "      <td>0</td>\n",
       "    </tr>\n",
       "    <tr>\n",
       "      <th>...</th>\n",
       "      <td>...</td>\n",
       "      <td>...</td>\n",
       "      <td>...</td>\n",
       "      <td>...</td>\n",
       "      <td>...</td>\n",
       "      <td>...</td>\n",
       "      <td>...</td>\n",
       "      <td>...</td>\n",
       "      <td>...</td>\n",
       "      <td>...</td>\n",
       "      <td>...</td>\n",
       "      <td>...</td>\n",
       "      <td>...</td>\n",
       "      <td>...</td>\n",
       "    </tr>\n",
       "    <tr>\n",
       "      <th>1039</th>\n",
       "      <td>1000175</td>\n",
       "      <td>P00085542</td>\n",
       "      <td>F</td>\n",
       "      <td>26-35</td>\n",
       "      <td>2</td>\n",
       "      <td>B</td>\n",
       "      <td>10</td>\n",
       "      <td>1</td>\n",
       "      <td>0</td>\n",
       "      <td>5</td>\n",
       "      <td>14.0</td>\n",
       "      <td>NaN</td>\n",
       "      <td>6919</td>\n",
       "      <td>0</td>\n",
       "    </tr>\n",
       "    <tr>\n",
       "      <th>1040</th>\n",
       "      <td>1000175</td>\n",
       "      <td>P00307642</td>\n",
       "      <td>F</td>\n",
       "      <td>26-35</td>\n",
       "      <td>2</td>\n",
       "      <td>B</td>\n",
       "      <td>10</td>\n",
       "      <td>1</td>\n",
       "      <td>0</td>\n",
       "      <td>5</td>\n",
       "      <td>6.0</td>\n",
       "      <td>NaN</td>\n",
       "      <td>1772</td>\n",
       "      <td>0</td>\n",
       "    </tr>\n",
       "    <tr>\n",
       "      <th>1041</th>\n",
       "      <td>1000175</td>\n",
       "      <td>P00052842</td>\n",
       "      <td>F</td>\n",
       "      <td>26-35</td>\n",
       "      <td>2</td>\n",
       "      <td>B</td>\n",
       "      <td>15</td>\n",
       "      <td>1</td>\n",
       "      <td>0</td>\n",
       "      <td>10</td>\n",
       "      <td>15.0</td>\n",
       "      <td>NaN</td>\n",
       "      <td>23341</td>\n",
       "      <td>1</td>\n",
       "    </tr>\n",
       "    <tr>\n",
       "      <th>1042</th>\n",
       "      <td>1000175</td>\n",
       "      <td>P00057542</td>\n",
       "      <td>F</td>\n",
       "      <td>26-35</td>\n",
       "      <td>2</td>\n",
       "      <td>B</td>\n",
       "      <td>8</td>\n",
       "      <td>1</td>\n",
       "      <td>0</td>\n",
       "      <td>3</td>\n",
       "      <td>4.0</td>\n",
       "      <td>5.0</td>\n",
       "      <td>10604</td>\n",
       "      <td>1</td>\n",
       "    </tr>\n",
       "    <tr>\n",
       "      <th>1043</th>\n",
       "      <td>1000175</td>\n",
       "      <td>P00064042</td>\n",
       "      <td>F</td>\n",
       "      <td>26-35</td>\n",
       "      <td>2</td>\n",
       "      <td>B</td>\n",
       "      <td>8</td>\n",
       "      <td>1</td>\n",
       "      <td>0</td>\n",
       "      <td>3</td>\n",
       "      <td>4.0</td>\n",
       "      <td>12.0</td>\n",
       "      <td>10681</td>\n",
       "      <td>1</td>\n",
       "    </tr>\n",
       "  </tbody>\n",
       "</table>\n",
       "<p>1044 rows × 14 columns</p>\n",
       "</div>"
      ],
      "text/plain": [
       "      User_ID Product_ID Gender    Age  Occupation City_Category  Crime_rate  \\\n",
       "0     1000001  P00069042      F   0-17          10             A           8   \n",
       "1     1000001  P00248942      F   0-17          10             A           6   \n",
       "2     1000001  P00087842      F   0-17          10             A          17   \n",
       "3     1000001  P00085442      F   0-17          10             A          17   \n",
       "4     1000002  P00285442      M    55+          16             C          13   \n",
       "...       ...        ...    ...    ...         ...           ...         ...   \n",
       "1039  1000175  P00085542      F  26-35           2             B          10   \n",
       "1040  1000175  P00307642      F  26-35           2             B          10   \n",
       "1041  1000175  P00052842      F  26-35           2             B          15   \n",
       "1042  1000175  P00057542      F  26-35           2             B           8   \n",
       "1043  1000175  P00064042      F  26-35           2             B           8   \n",
       "\n",
       "      Stay_In_Current_City_Years  Marital_Status  Product_Category_1  \\\n",
       "0                              2               0                   3   \n",
       "1                              2               0                   1   \n",
       "2                              2               0                  12   \n",
       "3                              2               0                  12   \n",
       "4                              4               0                   8   \n",
       "...                          ...             ...                 ...   \n",
       "1039                           1               0                   5   \n",
       "1040                           1               0                   5   \n",
       "1041                           1               0                  10   \n",
       "1042                           1               0                   3   \n",
       "1043                           1               0                   3   \n",
       "\n",
       "      Product_Category_2  Product_Category_3  Purchase  Purchase2  \n",
       "0                    NaN                 NaN      8370          0  \n",
       "1                    6.0                14.0     15200          1  \n",
       "2                    NaN                 NaN      1422          0  \n",
       "3                   14.0                 NaN      1057          0  \n",
       "4                    NaN                 NaN      7969          0  \n",
       "...                  ...                 ...       ...        ...  \n",
       "1039                14.0                 NaN      6919          0  \n",
       "1040                 6.0                 NaN      1772          0  \n",
       "1041                15.0                 NaN     23341          1  \n",
       "1042                 4.0                 5.0     10604          1  \n",
       "1043                 4.0                12.0     10681          1  \n",
       "\n",
       "[1044 rows x 14 columns]"
      ]
     },
     "execution_count": 18,
     "metadata": {},
     "output_type": "execute_result"
    }
   ],
   "source": [
    "bfdata = pd.read_csv(\"BlackFridaySales.csv\")\n",
    "\n",
    "bfdata"
   ]
  },
  {
   "cell_type": "code",
   "execution_count": 19,
   "metadata": {},
   "outputs": [
    {
     "name": "stdout",
     "output_type": "stream",
     "text": [
      "<class 'pandas.core.frame.DataFrame'>\n",
      "RangeIndex: 1044 entries, 0 to 1043\n",
      "Data columns (total 14 columns):\n",
      " #   Column                      Non-Null Count  Dtype  \n",
      "---  ------                      --------------  -----  \n",
      " 0   User_ID                     1044 non-null   int64  \n",
      " 1   Product_ID                  1044 non-null   object \n",
      " 2   Gender                      1044 non-null   object \n",
      " 3   Age                         1044 non-null   object \n",
      " 4   Occupation                  1044 non-null   int64  \n",
      " 5   City_Category               1044 non-null   object \n",
      " 6   Crime_rate                  1044 non-null   int64  \n",
      " 7   Stay_In_Current_City_Years  1044 non-null   int64  \n",
      " 8   Marital_Status              1044 non-null   int64  \n",
      " 9   Product_Category_1          1044 non-null   int64  \n",
      " 10  Product_Category_2          731 non-null    float64\n",
      " 11  Product_Category_3          336 non-null    float64\n",
      " 12  Purchase                    1044 non-null   int64  \n",
      " 13  Purchase2                   1044 non-null   int64  \n",
      "dtypes: float64(2), int64(8), object(4)\n",
      "memory usage: 114.3+ KB\n"
     ]
    }
   ],
   "source": [
    "bfdata.shape\n",
    "bfdata.info()"
   ]
  },
  {
   "cell_type": "code",
   "execution_count": 20,
   "metadata": {},
   "outputs": [
    {
     "data": {
      "text/plain": [
       "User_ID                         0\n",
       "Product_ID                      0\n",
       "Gender                          0\n",
       "Age                             0\n",
       "Occupation                      0\n",
       "City_Category                   0\n",
       "Crime_rate                      0\n",
       "Stay_In_Current_City_Years      0\n",
       "Marital_Status                  0\n",
       "Product_Category_1              0\n",
       "Product_Category_2            313\n",
       "Product_Category_3            708\n",
       "Purchase                        0\n",
       "Purchase2                       0\n",
       "dtype: int64"
      ]
     },
     "execution_count": 20,
     "metadata": {},
     "output_type": "execute_result"
    }
   ],
   "source": [
    "bfdata.isnull().sum()"
   ]
  },
  {
   "cell_type": "markdown",
   "metadata": {},
   "source": [
    "Cleaning:\n",
    "\n",
    "One of the feature is 'Crime_rate' which tells us about the crime rate in that particular city. I see that there is no noticeable relation so discarding that column."
   ]
  },
  {
   "cell_type": "code",
   "execution_count": 21,
   "metadata": {},
   "outputs": [
    {
     "data": {
      "text/plain": [
       "Index(['User_ID', 'Product_ID', 'Gender', 'Age', 'Occupation', 'City_Category',\n",
       "       'Stay_In_Current_City_Years', 'Marital_Status', 'Product_Category_1',\n",
       "       'Product_Category_2', 'Product_Category_3', 'Purchase', 'Purchase2'],\n",
       "      dtype='object')"
      ]
     },
     "execution_count": 21,
     "metadata": {},
     "output_type": "execute_result"
    }
   ],
   "source": [
    "bfdata.drop(columns=['Crime_rate'],inplace=True)\n",
    "bfdata.columns"
   ]
  },
  {
   "cell_type": "markdown",
   "metadata": {},
   "source": [
    "Checking null values"
   ]
  },
  {
   "cell_type": "code",
   "execution_count": 22,
   "metadata": {},
   "outputs": [
    {
     "data": {
      "text/plain": [
       "User_ID                         0\n",
       "Product_ID                      0\n",
       "Gender                          0\n",
       "Age                             0\n",
       "Occupation                      0\n",
       "City_Category                   0\n",
       "Stay_In_Current_City_Years      0\n",
       "Marital_Status                  0\n",
       "Product_Category_1              0\n",
       "Product_Category_2            313\n",
       "Product_Category_3            708\n",
       "Purchase                        0\n",
       "Purchase2                       0\n",
       "dtype: int64"
      ]
     },
     "execution_count": 22,
     "metadata": {},
     "output_type": "execute_result"
    }
   ],
   "source": [
    "bfdata.isnull().sum()"
   ]
  },
  {
   "cell_type": "markdown",
   "metadata": {},
   "source": [
    "I see Product_Category_2  and Product_Category_3 have significanty high number of NULL values. I will discard these columns for now."
   ]
  },
  {
   "cell_type": "code",
   "execution_count": 23,
   "metadata": {},
   "outputs": [
    {
     "data": {
      "text/plain": [
       "Index(['User_ID', 'Product_ID', 'Gender', 'Age', 'Occupation', 'City_Category',\n",
       "       'Stay_In_Current_City_Years', 'Marital_Status', 'Product_Category_1',\n",
       "       'Purchase', 'Purchase2'],\n",
       "      dtype='object')"
      ]
     },
     "execution_count": 23,
     "metadata": {},
     "output_type": "execute_result"
    }
   ],
   "source": [
    "bfdata.drop(columns=['Product_Category_2','Product_Category_3'],inplace=True)\n",
    "bfdata.columns"
   ]
  },
  {
   "cell_type": "code",
   "execution_count": 24,
   "metadata": {},
   "outputs": [
    {
     "data": {
      "text/plain": [
       "User_ID                       0\n",
       "Product_ID                    0\n",
       "Gender                        0\n",
       "Age                           0\n",
       "Occupation                    0\n",
       "City_Category                 0\n",
       "Stay_In_Current_City_Years    0\n",
       "Marital_Status                0\n",
       "Product_Category_1            0\n",
       "Purchase                      0\n",
       "Purchase2                     0\n",
       "dtype: int64"
      ]
     },
     "execution_count": 24,
     "metadata": {},
     "output_type": "execute_result"
    }
   ],
   "source": [
    "#Checking if there are more NULL Values\n",
    "bfdata.isnull().sum()"
   ]
  },
  {
   "cell_type": "markdown",
   "metadata": {},
   "source": [
    "Creating Training/Test sets"
   ]
  },
  {
   "cell_type": "code",
   "execution_count": 25,
   "metadata": {},
   "outputs": [
    {
     "name": "stdout",
     "output_type": "stream",
     "text": [
      "835 209\n",
      "      User_ID Product_ID Gender    Age  Occupation City_Category  \\\n",
      "554   1000102  P00274942      M  36-45          19             C   \n",
      "485   1000090  P00127942      M    55+          13             C   \n",
      "345   1000058  P00119142      M  26-35           2             B   \n",
      "1004  1000173  P00057642      M  26-35           0             B   \n",
      "730   1000139  P00249642      F  26-35          20             C   \n",
      "\n",
      "      Stay_In_Current_City_Years  Marital_Status  Product_Category_1  \\\n",
      "554                            3               0                   8   \n",
      "485                            1               0                   1   \n",
      "345                            3               0                   3   \n",
      "1004                           1               1                   1   \n",
      "730                            2               0                   3   \n",
      "\n",
      "      Purchase  Purchase2  \n",
      "554       4102          0  \n",
      "485      11605          1  \n",
      "345      13557          1  \n",
      "1004     15351          1  \n",
      "730       8314          0  \n",
      "     User_ID Product_ID Gender    Age  Occupation City_Category  \\\n",
      "802  1000148  P00057242      M  51-55          17             B   \n",
      "43   1000010   P0094542      F  36-45           1             B   \n",
      "653  1000126  P00121642      M  18-25           9             B   \n",
      "764  1000146  P00114142      F  36-45          20             B   \n",
      "621  1000119  P00227642      F   0-17          10             C   \n",
      "\n",
      "     Stay_In_Current_City_Years  Marital_Status  Product_Category_1  Purchase  \\\n",
      "802                           3               1                   5      5375   \n",
      "43                            4               1                   2     16406   \n",
      "653                           1               0                   5      3638   \n",
      "764                           3               1                   8      9932   \n",
      "621                           1               0                   1     15837   \n",
      "\n",
      "     Purchase2  \n",
      "802          0  \n",
      "43           1  \n",
      "653          0  \n",
      "764          0  \n",
      "621          1  \n"
     ]
    }
   ],
   "source": [
    "from sklearn.model_selection import train_test_split\n",
    "train_set, test_set = train_test_split(bfdata, test_size=0.2, random_state=123)\n",
    "print(len(train_set), len(test_set))\n",
    "print(train_set.head())\n",
    "print(test_set.head())"
   ]
  },
  {
   "cell_type": "code",
   "execution_count": 26,
   "metadata": {},
   "outputs": [],
   "source": [
    "from sklearn.model_selection import train_test_split\n",
    "from sklearn.ensemble import RandomForestClassifier\n",
    "from sklearn.svm import SVC\n",
    "\n",
    "import matplotlib.pyplot as plt\n",
    "\n",
    "from sklearn.linear_model import LinearRegression\n",
    "from sklearn.tree import DecisionTreeClassifier\n",
    "\n",
    "X = bfdata[['Stay_In_Current_City_Years','Occupation','Marital_Status']]\n",
    "y = bfdata[['Purchase2']]\n"
   ]
  },
  {
   "cell_type": "markdown",
   "metadata": {},
   "source": [
    "From the dataset I see one of the column `Stay_In_Current_City_Years`. I noticed that those who have lived in the city for one year likely to spend the most.This is comprehensible since individuals who have lived in the city for more than four years are often more established and less interested in buying new goods than those who are new to the city, who tend to spend more. Similarly occupation has an effect on purchases. When we combined Purchase and Marital_Status for analysis, we came to know that Single Men spend the most during the Black Friday. It also tells that Men tend to spend less once they are married. It maybe because of the added responsibilities.\n",
    "So I have taken features Stay_In_Current_City_Years,Occupation,Marital_Status for X and Purchase2 as Y.  Purchase 2 is a derived feature that I have created to distinguish the purchases which are above 10000 and below 10000."
   ]
  },
  {
   "cell_type": "code",
   "execution_count": 27,
   "metadata": {},
   "outputs": [
    {
     "name": "stdout",
     "output_type": "stream",
     "text": [
      "LinearRegression()\n",
      "Linear Regression accuracy:  0.04803725894035882\n",
      "Random Forest accuracy:  67.81609195402298\n"
     ]
    },
    {
     "name": "stderr",
     "output_type": "stream",
     "text": [
      "c:\\Users\\S545709\\AppData\\Local\\Programs\\Python\\Python36\\lib\\site-packages\\ipykernel_launcher.py:6: DataConversionWarning: A column-vector y was passed when a 1d array was expected. Please change the shape of y to (n_samples,), for example using ravel().\n",
      "  \n",
      "c:\\Users\\S545709\\AppData\\Local\\Programs\\Python\\Python36\\lib\\site-packages\\sklearn\\utils\\validation.py:63: DataConversionWarning: A column-vector y was passed when a 1d array was expected. Please change the shape of y to (n_samples, ), for example using ravel().\n",
      "  return f(*args, **kwargs)\n"
     ]
    },
    {
     "name": "stdout",
     "output_type": "stream",
     "text": [
      "Decision Tree Classifier accuracy:  67.81609195402298\n",
      "SVM accuracy:  61.877394636015325\n"
     ]
    }
   ],
   "source": [
    "lreg = LinearRegression()\n",
    "print(lreg.fit(X, y))\n",
    "print(\"Linear Regression accuracy: \", (lreg.score(X,y))*100)\n",
    "\n",
    "Random_model = RandomForestClassifier()\n",
    "Random_model.fit(X,y)\n",
    "print(\"Random Forest accuracy: \", (Random_model.score(X,y))*100)\n",
    "\n",
    "decision_model = DecisionTreeClassifier()\n",
    "decision_model.fit(X,y)\n",
    "print(\"Decision Tree Classifier accuracy: \", (decision_model.score(X,y))*100)\n",
    "\n",
    "\n",
    "svm_model = SVC()\n",
    "svm_model.fit(X,y)\n",
    "print(\"SVM accuracy: \", (svm_model.score(X,y))*100)\n"
   ]
  },
  {
   "cell_type": "markdown",
   "metadata": {},
   "source": [
    "Decision Tree"
   ]
  },
  {
   "cell_type": "code",
   "execution_count": 28,
   "metadata": {},
   "outputs": [
    {
     "data": {
      "text/plain": [
       "DecisionTreeClassifier()"
      ]
     },
     "execution_count": 28,
     "metadata": {},
     "output_type": "execute_result"
    }
   ],
   "source": [
    "X = bfdata[['Stay_In_Current_City_Years','Occupation','Marital_Status']]\n",
    "Y = bfdata[['Purchase2']]\n",
    "\n",
    "dtree = DecisionTreeClassifier()\n",
    "dtree.fit(X,Y)"
   ]
  },
  {
   "cell_type": "code",
   "execution_count": 29,
   "metadata": {},
   "outputs": [
    {
     "name": "stdout",
     "output_type": "stream",
     "text": [
      "[[577  69]\n",
      " [267 131]]\n"
     ]
    }
   ],
   "source": [
    "from sklearn.metrics import confusion_matrix\n",
    "\n",
    "y_pred = dtree.predict(X)\n",
    "matrix = confusion_matrix(Y, y_pred)\n",
    "print(matrix)"
   ]
  },
  {
   "cell_type": "markdown",
   "metadata": {},
   "source": [
    "As we can see there are 577 predictions where the model is positive and the instance is positive. On the other hand the True Negative count is 131. The SVM accuracy is calculated using a SVM model(SVC) and the value for svm accuracy is 61.877394636015325"
   ]
  },
  {
   "cell_type": "code",
   "execution_count": 30,
   "metadata": {},
   "outputs": [
    {
     "name": "stdout",
     "output_type": "stream",
     "text": [
      "Accuracy = 0.6781609195402298\n",
      "Precision = 0.6727274336765267\n",
      "Sensitivity = 0.6781609195402298\n",
      "F1 = 0.6462638066614602\n"
     ]
    }
   ],
   "source": [
    "from sklearn.metrics import accuracy_score, precision_score, recall_score, f1_score\n",
    "print (\"Accuracy =\", accuracy_score(Y, y_pred))\n",
    "print (\"Precision =\", precision_score(Y, y_pred, average=\"weighted\"))\n",
    "print (\"Sensitivity =\", recall_score(Y, y_pred, average=\"weighted\"))\n",
    "print (\"F1 =\", f1_score(Y, y_pred, average=\"weighted\"))"
   ]
  },
  {
   "cell_type": "markdown",
   "metadata": {},
   "source": [
    "Earlier with a single feature Linear Regression accuracy was calculated at 0.02197. After adding 3 features which are  'Stay_In_Current_City_Years','Occupation' and 'Marital_Status' Linear Regression accuracy increased to  0.04803. We have created a decision tree and also calculated svm accuracy using a svm model"
   ]
  }
 ],
 "metadata": {
  "kernelspec": {
   "display_name": "Python 3.6.8 64-bit",
   "language": "python",
   "name": "python3"
  },
  "language_info": {
   "codemirror_mode": {
    "name": "ipython",
    "version": 3
   },
   "file_extension": ".py",
   "mimetype": "text/x-python",
   "name": "python",
   "nbconvert_exporter": "python",
   "pygments_lexer": "ipython3",
   "version": "3.6.8"
  },
  "orig_nbformat": 4,
  "vscode": {
   "interpreter": {
    "hash": "2372251a64f685871e76313342f943e1907a9c848d814486da50fe2ffb42106b"
   }
  }
 },
 "nbformat": 4,
 "nbformat_minor": 2
}
