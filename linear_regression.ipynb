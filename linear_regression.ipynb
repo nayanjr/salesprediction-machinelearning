{
 "cells": [
  {
   "cell_type": "code",
   "execution_count": 7,
   "metadata": {},
   "outputs": [],
   "source": [
    "import numpy as np\n",
    "import pandas as pd\n",
    "import matplotlib.pyplot as plt\n",
    "import seaborn as sns"
   ]
  },
  {
   "cell_type": "code",
   "execution_count": 8,
   "metadata": {},
   "outputs": [
    {
     "data": {
      "text/html": [
       "<div>\n",
       "<style scoped>\n",
       "    .dataframe tbody tr th:only-of-type {\n",
       "        vertical-align: middle;\n",
       "    }\n",
       "\n",
       "    .dataframe tbody tr th {\n",
       "        vertical-align: top;\n",
       "    }\n",
       "\n",
       "    .dataframe thead th {\n",
       "        text-align: right;\n",
       "    }\n",
       "</style>\n",
       "<table border=\"1\" class=\"dataframe\">\n",
       "  <thead>\n",
       "    <tr style=\"text-align: right;\">\n",
       "      <th></th>\n",
       "      <th>User_ID</th>\n",
       "      <th>Product_ID</th>\n",
       "      <th>Gender</th>\n",
       "      <th>Age</th>\n",
       "      <th>Occupation</th>\n",
       "      <th>City_Category</th>\n",
       "      <th>Crime_rate</th>\n",
       "      <th>Stay_In_Current_City_Years</th>\n",
       "      <th>Marital_Status</th>\n",
       "      <th>Product_Category_1</th>\n",
       "      <th>Product_Category_2</th>\n",
       "      <th>Product_Category_3</th>\n",
       "      <th>Purchase</th>\n",
       "    </tr>\n",
       "  </thead>\n",
       "  <tbody>\n",
       "    <tr>\n",
       "      <th>0</th>\n",
       "      <td>1000001</td>\n",
       "      <td>P00069042</td>\n",
       "      <td>F</td>\n",
       "      <td>0-17</td>\n",
       "      <td>10</td>\n",
       "      <td>A</td>\n",
       "      <td>8</td>\n",
       "      <td>2</td>\n",
       "      <td>0</td>\n",
       "      <td>3</td>\n",
       "      <td>NaN</td>\n",
       "      <td>NaN</td>\n",
       "      <td>8370</td>\n",
       "    </tr>\n",
       "    <tr>\n",
       "      <th>1</th>\n",
       "      <td>1000001</td>\n",
       "      <td>P00248942</td>\n",
       "      <td>F</td>\n",
       "      <td>0-17</td>\n",
       "      <td>10</td>\n",
       "      <td>A</td>\n",
       "      <td>6</td>\n",
       "      <td>2</td>\n",
       "      <td>0</td>\n",
       "      <td>1</td>\n",
       "      <td>6.0</td>\n",
       "      <td>14.0</td>\n",
       "      <td>15200</td>\n",
       "    </tr>\n",
       "    <tr>\n",
       "      <th>2</th>\n",
       "      <td>1000001</td>\n",
       "      <td>P00087842</td>\n",
       "      <td>F</td>\n",
       "      <td>0-17</td>\n",
       "      <td>10</td>\n",
       "      <td>A</td>\n",
       "      <td>17</td>\n",
       "      <td>2</td>\n",
       "      <td>0</td>\n",
       "      <td>12</td>\n",
       "      <td>NaN</td>\n",
       "      <td>NaN</td>\n",
       "      <td>1422</td>\n",
       "    </tr>\n",
       "    <tr>\n",
       "      <th>3</th>\n",
       "      <td>1000001</td>\n",
       "      <td>P00085442</td>\n",
       "      <td>F</td>\n",
       "      <td>0-17</td>\n",
       "      <td>10</td>\n",
       "      <td>A</td>\n",
       "      <td>17</td>\n",
       "      <td>2</td>\n",
       "      <td>0</td>\n",
       "      <td>12</td>\n",
       "      <td>14.0</td>\n",
       "      <td>NaN</td>\n",
       "      <td>1057</td>\n",
       "    </tr>\n",
       "    <tr>\n",
       "      <th>4</th>\n",
       "      <td>1000002</td>\n",
       "      <td>P00285442</td>\n",
       "      <td>M</td>\n",
       "      <td>55+</td>\n",
       "      <td>16</td>\n",
       "      <td>C</td>\n",
       "      <td>13</td>\n",
       "      <td>4</td>\n",
       "      <td>0</td>\n",
       "      <td>8</td>\n",
       "      <td>NaN</td>\n",
       "      <td>NaN</td>\n",
       "      <td>7969</td>\n",
       "    </tr>\n",
       "    <tr>\n",
       "      <th>...</th>\n",
       "      <td>...</td>\n",
       "      <td>...</td>\n",
       "      <td>...</td>\n",
       "      <td>...</td>\n",
       "      <td>...</td>\n",
       "      <td>...</td>\n",
       "      <td>...</td>\n",
       "      <td>...</td>\n",
       "      <td>...</td>\n",
       "      <td>...</td>\n",
       "      <td>...</td>\n",
       "      <td>...</td>\n",
       "      <td>...</td>\n",
       "    </tr>\n",
       "    <tr>\n",
       "      <th>1040</th>\n",
       "      <td>1000175</td>\n",
       "      <td>P00307642</td>\n",
       "      <td>F</td>\n",
       "      <td>26-35</td>\n",
       "      <td>2</td>\n",
       "      <td>B</td>\n",
       "      <td>10</td>\n",
       "      <td>1</td>\n",
       "      <td>0</td>\n",
       "      <td>5</td>\n",
       "      <td>6.0</td>\n",
       "      <td>NaN</td>\n",
       "      <td>1772</td>\n",
       "    </tr>\n",
       "    <tr>\n",
       "      <th>1041</th>\n",
       "      <td>1000175</td>\n",
       "      <td>P00052842</td>\n",
       "      <td>F</td>\n",
       "      <td>26-35</td>\n",
       "      <td>2</td>\n",
       "      <td>B</td>\n",
       "      <td>15</td>\n",
       "      <td>1</td>\n",
       "      <td>0</td>\n",
       "      <td>10</td>\n",
       "      <td>15.0</td>\n",
       "      <td>NaN</td>\n",
       "      <td>23341</td>\n",
       "    </tr>\n",
       "    <tr>\n",
       "      <th>1042</th>\n",
       "      <td>1000175</td>\n",
       "      <td>P00057542</td>\n",
       "      <td>F</td>\n",
       "      <td>26-35</td>\n",
       "      <td>2</td>\n",
       "      <td>B</td>\n",
       "      <td>8</td>\n",
       "      <td>1</td>\n",
       "      <td>0</td>\n",
       "      <td>3</td>\n",
       "      <td>4.0</td>\n",
       "      <td>5.0</td>\n",
       "      <td>10604</td>\n",
       "    </tr>\n",
       "    <tr>\n",
       "      <th>1043</th>\n",
       "      <td>1000175</td>\n",
       "      <td>P00064042</td>\n",
       "      <td>F</td>\n",
       "      <td>26-35</td>\n",
       "      <td>2</td>\n",
       "      <td>B</td>\n",
       "      <td>8</td>\n",
       "      <td>1</td>\n",
       "      <td>0</td>\n",
       "      <td>3</td>\n",
       "      <td>4.0</td>\n",
       "      <td>12.0</td>\n",
       "      <td>10681</td>\n",
       "    </tr>\n",
       "    <tr>\n",
       "      <th>1044</th>\n",
       "      <td>1000175</td>\n",
       "      <td>P00112142</td>\n",
       "      <td>F</td>\n",
       "      <td>26-35</td>\n",
       "      <td>2</td>\n",
       "      <td>B</td>\n",
       "      <td>6</td>\n",
       "      <td>1</td>\n",
       "      <td>0</td>\n",
       "      <td>1</td>\n",
       "      <td>2.0</td>\n",
       "      <td>14.0</td>\n",
       "      <td>19442</td>\n",
       "    </tr>\n",
       "  </tbody>\n",
       "</table>\n",
       "<p>1045 rows × 13 columns</p>\n",
       "</div>"
      ],
      "text/plain": [
       "      User_ID Product_ID Gender    Age  Occupation City_Category  Crime_rate  \\\n",
       "0     1000001  P00069042      F   0-17          10             A           8   \n",
       "1     1000001  P00248942      F   0-17          10             A           6   \n",
       "2     1000001  P00087842      F   0-17          10             A          17   \n",
       "3     1000001  P00085442      F   0-17          10             A          17   \n",
       "4     1000002  P00285442      M    55+          16             C          13   \n",
       "...       ...        ...    ...    ...         ...           ...         ...   \n",
       "1040  1000175  P00307642      F  26-35           2             B          10   \n",
       "1041  1000175  P00052842      F  26-35           2             B          15   \n",
       "1042  1000175  P00057542      F  26-35           2             B           8   \n",
       "1043  1000175  P00064042      F  26-35           2             B           8   \n",
       "1044  1000175  P00112142      F  26-35           2             B           6   \n",
       "\n",
       "      Stay_In_Current_City_Years  Marital_Status  Product_Category_1  \\\n",
       "0                              2               0                   3   \n",
       "1                              2               0                   1   \n",
       "2                              2               0                  12   \n",
       "3                              2               0                  12   \n",
       "4                              4               0                   8   \n",
       "...                          ...             ...                 ...   \n",
       "1040                           1               0                   5   \n",
       "1041                           1               0                  10   \n",
       "1042                           1               0                   3   \n",
       "1043                           1               0                   3   \n",
       "1044                           1               0                   1   \n",
       "\n",
       "      Product_Category_2  Product_Category_3  Purchase  \n",
       "0                    NaN                 NaN      8370  \n",
       "1                    6.0                14.0     15200  \n",
       "2                    NaN                 NaN      1422  \n",
       "3                   14.0                 NaN      1057  \n",
       "4                    NaN                 NaN      7969  \n",
       "...                  ...                 ...       ...  \n",
       "1040                 6.0                 NaN      1772  \n",
       "1041                15.0                 NaN     23341  \n",
       "1042                 4.0                 5.0     10604  \n",
       "1043                 4.0                12.0     10681  \n",
       "1044                 2.0                14.0     19442  \n",
       "\n",
       "[1045 rows x 13 columns]"
      ]
     },
     "execution_count": 8,
     "metadata": {},
     "output_type": "execute_result"
    }
   ],
   "source": [
    "bfdata = pd.read_csv(\"BlackFridaySales.csv\")\n",
    "\n",
    "bfdata"
   ]
  },
  {
   "cell_type": "markdown",
   "metadata": {},
   "source": [
    "Data Cleaning"
   ]
  },
  {
   "cell_type": "code",
   "execution_count": 9,
   "metadata": {},
   "outputs": [
    {
     "data": {
      "text/plain": [
       "Index(['User_ID', 'Product_ID', 'Gender', 'Age', 'Occupation', 'City_Category',\n",
       "       'Stay_In_Current_City_Years', 'Marital_Status', 'Product_Category_1',\n",
       "       'Product_Category_2', 'Product_Category_3', 'Purchase'],\n",
       "      dtype='object')"
      ]
     },
     "execution_count": 9,
     "metadata": {},
     "output_type": "execute_result"
    }
   ],
   "source": [
    "bfdata.drop(columns=['Crime_rate'],inplace=True)\n",
    "bfdata.columns"
   ]
  },
  {
   "cell_type": "markdown",
   "metadata": {},
   "source": [
    "Checking Null Values"
   ]
  },
  {
   "cell_type": "code",
   "execution_count": 10,
   "metadata": {},
   "outputs": [
    {
     "data": {
      "text/plain": [
       "User_ID                         0\n",
       "Product_ID                      0\n",
       "Gender                          0\n",
       "Age                             0\n",
       "Occupation                      0\n",
       "City_Category                   0\n",
       "Stay_In_Current_City_Years      0\n",
       "Marital_Status                  0\n",
       "Product_Category_1              0\n",
       "Product_Category_2            313\n",
       "Product_Category_3            708\n",
       "Purchase                        0\n",
       "dtype: int64"
      ]
     },
     "execution_count": 10,
     "metadata": {},
     "output_type": "execute_result"
    }
   ],
   "source": [
    "bfdata.isnull().sum()"
   ]
  },
  {
   "cell_type": "code",
   "execution_count": 11,
   "metadata": {},
   "outputs": [
    {
     "data": {
      "text/plain": [
       "Index(['User_ID', 'Product_ID', 'Gender', 'Age', 'Occupation', 'City_Category',\n",
       "       'Stay_In_Current_City_Years', 'Marital_Status', 'Product_Category_1',\n",
       "       'Purchase'],\n",
       "      dtype='object')"
      ]
     },
     "execution_count": 11,
     "metadata": {},
     "output_type": "execute_result"
    }
   ],
   "source": [
    "bfdata.drop(columns=['Product_Category_2','Product_Category_3'],inplace=True)\n",
    "bfdata.columns"
   ]
  },
  {
   "cell_type": "code",
   "execution_count": 12,
   "metadata": {},
   "outputs": [
    {
     "data": {
      "text/plain": [
       "User_ID                       0\n",
       "Product_ID                    0\n",
       "Gender                        0\n",
       "Age                           0\n",
       "Occupation                    0\n",
       "City_Category                 0\n",
       "Stay_In_Current_City_Years    0\n",
       "Marital_Status                0\n",
       "Product_Category_1            0\n",
       "Purchase                      0\n",
       "dtype: int64"
      ]
     },
     "execution_count": 12,
     "metadata": {},
     "output_type": "execute_result"
    }
   ],
   "source": [
    "bfdata.isnull().sum()"
   ]
  },
  {
   "cell_type": "markdown",
   "metadata": {},
   "source": [
    "Creating training/test sets"
   ]
  },
  {
   "cell_type": "code",
   "execution_count": 13,
   "metadata": {},
   "outputs": [
    {
     "name": "stdout",
     "output_type": "stream",
     "text": [
      "836 209\n",
      "     User_ID Product_ID Gender    Age  Occupation City_Category  \\\n",
      "554  1000102  P00274942      M  36-45          19             C   \n",
      "485  1000090  P00127942      M    55+          13             C   \n",
      "345  1000058  P00119142      M  26-35           2             B   \n",
      "827  1000149  P00283942      M  26-35           1             B   \n",
      "730  1000139  P00249642      F  26-35          20             C   \n",
      "\n",
      "     Stay_In_Current_City_Years  Marital_Status  Product_Category_1  Purchase  \n",
      "554                           3               0                   8      4102  \n",
      "485                           1               0                   1     11605  \n",
      "345                           3               0                   3     13557  \n",
      "827                           2               1                   5      6998  \n",
      "730                           2               0                   3      8314  \n",
      "     User_ID Product_ID Gender    Age  Occupation City_Category  \\\n",
      "803  1000148  P00074442      M  51-55          17             B   \n",
      "43   1000010   P0094542      F  36-45           1             B   \n",
      "653  1000126  P00121642      M  18-25           9             B   \n",
      "997  1000171  P00100442      F  51-55          17             B   \n",
      "621  1000119  P00227642      F   0-17          10             C   \n",
      "\n",
      "     Stay_In_Current_City_Years  Marital_Status  Product_Category_1  Purchase  \n",
      "803                           3               1                   1     11715  \n",
      "43                            4               1                   2     16406  \n",
      "653                           1               0                   5      3638  \n",
      "997                           1               1                   2     16018  \n",
      "621                           1               0                   1     15837  \n"
     ]
    }
   ],
   "source": [
    "from sklearn.model_selection import train_test_split\n",
    "train_set, test_set = train_test_split(bfdata, test_size=0.2, random_state=123)\n",
    "print(len(train_set), len(test_set))\n",
    "print(train_set.head())\n",
    "print(test_set.head())"
   ]
  },
  {
   "cell_type": "markdown",
   "metadata": {},
   "source": [
    "I will be considering `Stay_In_Current_City_Years` as X and `Purchase` as Y. The reason I chose these is because I  noticed that those who have lived in the city for one year likely to spend the most.This is comprehensible since individuals who have lived in the city for more than four years are often more established and less interested in buying new goods than those who are new to the city, who tend to spend more."
   ]
  },
  {
   "cell_type": "code",
   "execution_count": 14,
   "metadata": {},
   "outputs": [
    {
     "data": {
      "text/plain": [
       "<function matplotlib.pyplot.show(close=None, block=None)>"
      ]
     },
     "execution_count": 14,
     "metadata": {},
     "output_type": "execute_result"
    },
    {
     "data": {
      "image/png": "[encoded data removed]",
      "text/plain": [
       "<Figure size 432x288 with 1 Axes>"
      ]
     },
     "metadata": {
      "needs_background": "light"
     },
     "output_type": "display_data"
    }
   ],
   "source": [
    "bfdata2 = bfdata.copy()\n",
    "\n",
    "plt.scatter(bfdata2[\"Stay_In_Current_City_Years\"],bfdata2[\"Purchase\"])\n",
    "plt.xlabel(\"Stay_In_Current_City_Years\")\n",
    "plt.ylabel(\"Purchase\")\n",
    "plt.show"
   ]
  },
  {
   "cell_type": "code",
   "execution_count": 15,
   "metadata": {},
   "outputs": [
    {
     "data": {
      "text/plain": [
       "LinearRegression()"
      ]
     },
     "execution_count": 15,
     "metadata": {},
     "output_type": "execute_result"
    }
   ],
   "source": [
    "from sklearn.linear_model import LinearRegression\n",
    "lreg = LinearRegression()\n",
    "\n",
    "X = bfdata2[[\"Stay_In_Current_City_Years\"]]\n",
    "Y = bfdata2[\"Purchase\"]\n",
    "lreg.fit(X,Y)"
   ]
  },
  {
   "cell_type": "code",
   "execution_count": 16,
   "metadata": {},
   "outputs": [
    {
     "name": "stdout",
     "output_type": "stream",
     "text": [
      "9579.540290053235 33.97423618314454\n"
     ]
    },
    {
     "data": {
      "image/png": "[encoded data removed]",
      "text/plain": [
       "<Figure size 432x288 with 1 Axes>"
      ]
     },
     "metadata": {
      "needs_background": "light"
     },
     "output_type": "display_data"
    }
   ],
   "source": [
    "theta0 = lreg.intercept_\n",
    "theta1 = lreg.coef_[0]\n",
    "print(theta0, theta1)\n",
    "def opline(h, bias, coef):\n",
    "    return bias + coef * h\n",
    "\n",
    "min_height = bfdata2[\"Stay_In_Current_City_Years\"].min()\n",
    "min_weight = opline(min_height, theta0, theta1)\n",
    "max_height = bfdata2[\"Stay_In_Current_City_Years\"].max()\n",
    "max_weight = opline(max_height, theta0, theta1)\n",
    "line_x = [min_height, max_height]\n",
    "line_y = [min_weight, max_weight]\n",
    "\n",
    "\n",
    "import matplotlib.pyplot as plt\n",
    "plt.scatter(bfdata2[\"Stay_In_Current_City_Years\"], bfdata2[\"Purchase\"])\n",
    "plt.xlabel(\"Stay_In_Current_City_Years\")\n",
    "plt.ylabel(\"Purchase\")\n",
    "plt.plot(line_x, line_y)\n",
    "plt.show()"
   ]
  },
  {
   "cell_type": "code",
   "execution_count": 17,
   "metadata": {},
   "outputs": [
    {
     "name": "stdout",
     "output_type": "stream",
     "text": [
      "7.57210227776417e-05\n"
     ]
    }
   ],
   "source": [
    "print(lreg.score(X,Y))"
   ]
  },
  {
   "cell_type": "markdown",
   "metadata": {},
   "source": [
    "The regression value is low and hence the performance is low."
   ]
  },
  {
   "cell_type": "code",
   "execution_count": 19,
   "metadata": {},
   "outputs": [
    {
     "name": "stdout",
     "output_type": "stream",
     "text": [
      "mean squared error is  26051090.83814667\n",
      "The root mean squared error is  5104.026923728623\n"
     ]
    }
   ],
   "source": [
    "from sklearn.metrics import mean_squared_error\n",
    "y_pred = lreg.predict(X)\n",
    "mse = mean_squared_error(Y, y_pred)\n",
    "print(\"mean squared error is \",  mse)\n",
    "\n",
    "from math import sqrt\n",
    "rms = sqrt(mse)\n",
    "print(\"The root mean squared error is \", rms)"
   ]
  },
  {
   "cell_type": "code",
   "execution_count": 20,
   "metadata": {},
   "outputs": [
    {
     "name": "stdout",
     "output_type": "stream",
     "text": [
      "9579.540290053235 33.97423618314454\n"
     ]
    },
    {
     "data": {
      "image/png": "[encoded data removed]",
      "text/plain": [
       "<Figure size 432x288 with 1 Axes>"
      ]
     },
     "metadata": {
      "needs_background": "light"
     },
     "output_type": "display_data"
    }
   ],
   "source": [
    "band = 3*rms\n",
    "\n",
    "theta0 = lreg.intercept_\n",
    "theta1 = lreg.coef_[0]\n",
    "print(theta0, theta1)\n",
    "def opline(h, bias, coef):\n",
    "    return bias + coef * h\n",
    "\n",
    "min_height = bfdata2[\"Stay_In_Current_City_Years\"].min()\n",
    "min_weight = opline(min_height, theta0, theta1)\n",
    "max_height = bfdata2[\"Stay_In_Current_City_Years\"].max()\n",
    "max_weight = opline(max_height, theta0, theta1)\n",
    "line_x = [min_height, max_height]\n",
    "line_y = [min_weight, max_weight]\n",
    "upper_line_y = [min_weight+band, max_weight+band]\n",
    "lower_line_y = [min_weight-band, max_weight-band]\n",
    "\n",
    "\n",
    "import matplotlib.pyplot as plt\n",
    "plt.scatter(bfdata2[\"Stay_In_Current_City_Years\"], bfdata2[\"Purchase\"])\n",
    "plt.xlabel(\"Stay_In_Current_City_Years\")\n",
    "plt.ylabel(\"Purchase\")\n",
    "plt.plot(line_x, upper_line_y)\n",
    "plt.plot(line_x, line_y)\n",
    "plt.plot(line_x, lower_line_y)\n",
    "plt.show()"
   ]
  },
  {
   "cell_type": "code",
   "execution_count": 21,
   "metadata": {},
   "outputs": [
    {
     "name": "stdout",
     "output_type": "stream",
     "text": [
      "[9613.51452624 9647.48876242 9715.43723479]\n"
     ]
    }
   ],
   "source": [
    "years =[[1], [2], [4]]   # This is an array of input vectors\n",
    "ppurchase = lreg.predict(years)\n",
    "print(ppurchase)"
   ]
  },
  {
   "cell_type": "code",
   "execution_count": 22,
   "metadata": {},
   "outputs": [
    {
     "data": {
      "image/png": "[encoded data removed]",
      "text/plain": [
       "<Figure size 432x288 with 1 Axes>"
      ]
     },
     "metadata": {
      "needs_background": "light"
     },
     "output_type": "display_data"
    }
   ],
   "source": [
    "years1 = bfdata2[\"Stay_In_Current_City_Years\"].min()\n",
    "years2 = bfdata2[\"Stay_In_Current_City_Years\"].max()\n",
    "line_x = [years1, years2]\n",
    "line_y = lreg.predict([[years1], [years2]])\n",
    "\n",
    "\n",
    "import matplotlib.pyplot as plt\n",
    "plt.scatter(bfdata2[\"Stay_In_Current_City_Years\"], bfdata2[\"Purchase\"])\n",
    "plt.xlabel(\"Stay_In_Current_City_Years\")\n",
    "plt.ylabel(\"Purchase\")\n",
    "plt.plot(line_x, line_y, color=\"red\")\n",
    "plt.show()"
   ]
  },
  {
   "cell_type": "code",
   "execution_count": 23,
   "metadata": {},
   "outputs": [
    {
     "name": "stdout",
     "output_type": "stream",
     "text": [
      "1.0\n",
      "-1.8189894035458565e-12 [-9.37597041e-15  1.00000000e+00]\n"
     ]
    }
   ],
   "source": [
    "from sklearn.linear_model import LinearRegression\n",
    "rpluslreg = LinearRegression()\n",
    "\n",
    "X = bfdata2[[ \"Stay_In_Current_City_Years\", \"Purchase\"]]\n",
    "Y = bfdata2[\"Purchase\"]\n",
    "rpluslreg.fit(X, Y)\n",
    "\n",
    "print(rpluslreg.score(X,Y))\n",
    "print(rpluslreg.intercept_ , rpluslreg.coef_)"
   ]
  },
  {
   "cell_type": "code",
   "execution_count": 24,
   "metadata": {},
   "outputs": [
    {
     "name": "stdout",
     "output_type": "stream",
     "text": [
      "0.0004436329084468449\n"
     ]
    },
    {
     "data": {
      "image/png": "[encoded data removed]",
      "text/plain": [
       "<Figure size 432x288 with 1 Axes>"
      ]
     },
     "metadata": {
      "needs_background": "light"
     },
     "output_type": "display_data"
    }
   ],
   "source": [
    "from sklearn.linear_model import LinearRegression\n",
    "reg_plus_quad = LinearRegression()\n",
    "\n",
    "X = bfdata2[[\"Stay_In_Current_City_Years\"]]\n",
    "Y = bfdata2[\"Purchase\"]\n",
    "\n",
    "from sklearn.preprocessing import PolynomialFeatures\n",
    "create_quad_terms = PolynomialFeatures(degree=2, include_bias=False)\n",
    "X_quad_terms = create_quad_terms.fit_transform(X)\n",
    "\n",
    "                \n",
    "                \n",
    "reg_plus_quad.fit(X_quad_terms, Y)\n",
    "\n",
    "print(reg_plus_quad.score(X_quad_terms,Y))\n",
    "\n",
    "min_height = bfdata2[\"Stay_In_Current_City_Years\"].min()\n",
    "max_height = bfdata2[\"Stay_In_Current_City_Years\"].max()\n",
    "points = 1000\n",
    "delta = (max_height-min_height)/points\n",
    "quad_x = [min_height + i*delta for i in range(points)]\n",
    "inputs = [[h, h*h] for h in quad_x]\n",
    "quad_y = reg_plus_quad.predict(inputs)\n",
    "\n",
    "\n",
    "import matplotlib.pyplot as plt\n",
    "plt.scatter(bfdata2[\"Stay_In_Current_City_Years\"], bfdata2[\"Purchase\"])\n",
    "plt.xlabel(\"Stay_In_Current_City_Years\")\n",
    "plt.ylabel(\"Purchase\")\n",
    "plt.plot(quad_x, quad_y, color=\"red\")\n",
    "plt.show()"
   ]
  },
  {
   "cell_type": "code",
   "execution_count": 25,
   "metadata": {},
   "outputs": [
    {
     "name": "stdout",
     "output_type": "stream",
     "text": [
      "0.0004622162315675027\n"
     ]
    }
   ],
   "source": [
    "from sklearn.linear_model import LinearRegression\n",
    "reg_plus_cube = LinearRegression()\n",
    "\n",
    "X = bfdata2[[\"Stay_In_Current_City_Years\"]]\n",
    "Y = bfdata2[\"Purchase\"]\n",
    "\n",
    "from sklearn.preprocessing import PolynomialFeatures\n",
    "create_cube_terms = PolynomialFeatures(degree=3, include_bias=False)\n",
    "X_cube_terms = create_cube_terms.fit_transform(X)\n",
    "\n",
    "                \n",
    "                \n",
    "reg_plus_cube.fit(X_cube_terms, Y)\n",
    "\n",
    "print(reg_plus_cube.score(X_cube_terms,Y))\n",
    "\n",
    "min_height = bfdata2[\"Stay_In_Current_City_Years\"].min()\n",
    "max_height = bfdata2[\"Purchase\"].max()\n",
    "points = 1000\n",
    "delta = (max_height-min_height)/points\n",
    "cube_x = [min_height + i*delta for i in range(points)]\n",
    "inputs = [[h, h*h, h**3] for h in cube_x]\n",
    "cube_y = reg_plus_cube.predict(inputs)\n",
    "\n",
    "import matplotlib.pyplot as plt"
   ]
  },
  {
   "cell_type": "code",
   "execution_count": 26,
   "metadata": {},
   "outputs": [
    {
     "data": {
      "image/png": "[encoded data removed]",
      "text/plain": [
       "<Figure size 432x288 with 1 Axes>"
      ]
     },
     "metadata": {
      "needs_background": "light"
     },
     "output_type": "display_data"
    }
   ],
   "source": [
    "plt.scatter(bfdata2[\"Stay_In_Current_City_Years\"], bfdata2[\"Purchase\"])\n",
    "plt.xlabel(\"Stay_In_Current_City_Years\")\n",
    "plt.ylabel(\"Purchase\")\n",
    "plt.plot(cube_x, cube_y, color=\"red\")\n",
    "plt.show()"
   ]
  },
  {
   "cell_type": "code",
   "execution_count": 27,
   "metadata": {},
   "outputs": [
    {
     "name": "stdout",
     "output_type": "stream",
     "text": [
      "-0.0038749008438119237\n"
     ]
    }
   ],
   "source": [
    "X = test_set[[\"Stay_In_Current_City_Years\"]]\n",
    "Y = test_set[\"Purchase\"]\n",
    "\n",
    "from sklearn.preprocessing import PolynomialFeatures\n",
    "create_cube_terms = PolynomialFeatures(degree=3, include_bias=False)\n",
    "X_cube_terms = create_cube_terms.fit_transform(X)\n",
    "\n",
    "\n",
    "print(reg_plus_cube.score(X_cube_terms, Y))"
   ]
  },
  {
   "cell_type": "markdown",
   "metadata": {},
   "source": [
    "The regression for the model is very low\n",
    "I believe adding more freature will increase the performance of the model"
   ]
  }
 ],
 "metadata": {
  "kernelspec": {
   "display_name": "Python 3.6.8 64-bit",
   "language": "python",
   "name": "python3"
  },
  "language_info": {
   "codemirror_mode": {
    "name": "ipython",
    "version": 3
   },
   "file_extension": ".py",
   "mimetype": "text/x-python",
   "name": "python",
   "nbconvert_exporter": "python",
   "pygments_lexer": "ipython3",
   "version": "3.6.8"
  },
  "orig_nbformat": 4,
  "vscode": {
   "interpreter": {
    "hash": "2372251a64f685871e76313342f943e1907a9c848d814486da50fe2ffb42106b"
   }
  }
 },
 "nbformat": 4,
 "nbformat_minor": 2
}
